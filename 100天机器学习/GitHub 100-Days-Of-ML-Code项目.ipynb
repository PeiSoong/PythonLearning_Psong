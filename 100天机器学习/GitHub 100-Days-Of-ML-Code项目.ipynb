{
 "cells": [
  {
   "cell_type": "markdown",
   "metadata": {},
   "source": [
    "# GitHub 100-Days-Of-ML-Code项目"
   ]
  },
  {
   "cell_type": "markdown",
   "metadata": {},
   "source": [
    "* 个人学习记录"
   ]
  },
  {
   "cell_type": "markdown",
   "metadata": {},
   "source": [
    "# Day 1 数据预处理"
   ]
  },
  {
   "cell_type": "markdown",
   "metadata": {},
   "source": [
    "* 导入需要的库：NumPy, pandas库\n",
    "* 导入数据集：pandas库中read_csv方法读取.csv格式数据集\n",
    "* 处理丢失数据：sklearn.preprocessing库Imputer类\n",
    "* 解析分类数据：sklearn.preprocessing库LabelEncoder类\n",
    "* 训练、测试集：sklearn.crossvalidation库中的train_test_split()方法\n",
    "* 特征缩放： 特征标准化，Z值归一化 sklearn.preprocessing库StandardScalar类"
   ]
  },
  {
   "cell_type": "markdown",
   "metadata": {},
   "source": [
    "# Day 2 简单线性回归"
   ]
  },
  {
   "cell_type": "code",
   "execution_count": null,
   "metadata": {},
   "outputs": [],
   "source": []
  }
 ],
 "metadata": {
  "kernelspec": {
   "display_name": "Python 3",
   "language": "python",
   "name": "python3"
  },
  "language_info": {
   "codemirror_mode": {
    "name": "ipython",
    "version": 3
   },
   "file_extension": ".py",
   "mimetype": "text/x-python",
   "name": "python",
   "nbconvert_exporter": "python",
   "pygments_lexer": "ipython3",
   "version": "3.7.1"
  }
 },
 "nbformat": 4,
 "nbformat_minor": 2
}
